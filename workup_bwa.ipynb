{
 "cells": [
  {
   "cell_type": "code",
   "execution_count": 32,
   "id": "54b1a7b6-036e-48c5-93fc-2d80ef192869",
   "metadata": {},
   "outputs": [],
   "source": [
    "import pandas as pd\n",
    "import matplotlib.pyplot as plt\n",
    "import seaborn as sns\n",
    "import glob\n",
    "\n",
    "import os.path as op"
   ]
  },
  {
   "cell_type": "code",
   "execution_count": 33,
   "id": "498fdb0e-b0e7-4b37-95a6-67f0de6357ab",
   "metadata": {},
   "outputs": [],
   "source": [
    "csvs = glob.glob(\"/mnt/stepanauskas_nfs/projects/sag_mag/coverm/manual_recruit2/*recruit_count*ol-0.csv\")\n"
   ]
  },
  {
   "cell_type": "code",
   "execution_count": 34,
   "id": "b0264d7e-ac9e-4995-a2f7-7d67cd2c2fbb",
   "metadata": {},
   "outputs": [
    {
     "data": {
      "text/plain": [
       "['/mnt/stepanauskas_nfs/projects/sag_mag/coverm/manual_recruit2/merge_sags_vs_ERR599173_recruit_count_by_pid_range_ml-0_ol-0.csv',\n",
       " '/mnt/stepanauskas_nfs/projects/sag_mag/coverm/manual_recruit2/merge_mags_vs_ERR598994_recruit_count_by_pid_range_ml-0_ol-0.csv',\n",
       " '/mnt/stepanauskas_nfs/projects/sag_mag/coverm/manual_recruit2/merge_mags_vs_ERR599010_recruit_count_by_pid_range_ml-0_ol-0.csv',\n",
       " '/mnt/stepanauskas_nfs/projects/sag_mag/coverm/manual_recruit2/merge_mags_vs_ERR598984_recruit_count_by_pid_range_ml-0_ol-0.csv',\n",
       " '/mnt/stepanauskas_nfs/projects/sag_mag/coverm/manual_recruit2/merge_mags_vs_ERR599052_recruit_count_by_pid_range_ml-0_ol-0.csv',\n",
       " '/mnt/stepanauskas_nfs/projects/sag_mag/coverm/manual_recruit2/merge_mags_vs_ERR598992_recruit_count_by_pid_range_ml-0_ol-0.csv',\n",
       " '/mnt/stepanauskas_nfs/projects/sag_mag/coverm/manual_recruit2/merge_mags_vs_ERR599160_recruit_count_by_pid_range_ml-0_ol-0.csv',\n",
       " '/mnt/stepanauskas_nfs/projects/sag_mag/coverm/manual_recruit2/merge_mags_vs_ERR599006_recruit_count_by_pid_range_ml-0_ol-0.csv',\n",
       " '/mnt/stepanauskas_nfs/projects/sag_mag/coverm/manual_recruit2/merge_mags_vs_ERR599063_recruit_count_by_pid_range_ml-0_ol-0.csv',\n",
       " '/mnt/stepanauskas_nfs/projects/sag_mag/coverm/manual_recruit2/merge_mags_vs_ERR598955_recruit_count_by_pid_range_ml-0_ol-0.csv',\n",
       " '/mnt/stepanauskas_nfs/projects/sag_mag/coverm/manual_recruit2/merge_mags_vs_ERR598983_recruit_count_by_pid_range_ml-0_ol-0.csv',\n",
       " '/mnt/stepanauskas_nfs/projects/sag_mag/coverm/manual_recruit2/merge_mags_vs_ERR599129_recruit_count_by_pid_range_ml-0_ol-0.csv',\n",
       " '/mnt/stepanauskas_nfs/projects/sag_mag/coverm/manual_recruit2/merge_mags_vs_ERR598989_recruit_count_by_pid_range_ml-0_ol-0.csv',\n",
       " '/mnt/stepanauskas_nfs/projects/sag_mag/coverm/manual_recruit2/merge_mags_vs_ERR598976_recruit_count_by_pid_range_ml-0_ol-0.csv',\n",
       " '/mnt/stepanauskas_nfs/projects/sag_mag/coverm/manual_recruit2/merge_mags_vs_ERR599057_recruit_count_by_pid_range_ml-0_ol-0.csv',\n",
       " '/mnt/stepanauskas_nfs/projects/sag_mag/coverm/manual_recruit2/merge_mags_vs_ERR599142_recruit_count_by_pid_range_ml-0_ol-0.csv',\n",
       " '/mnt/stepanauskas_nfs/projects/sag_mag/coverm/manual_recruit2/merge_mags_vs_ERR599119_recruit_count_by_pid_range_ml-0_ol-0.csv',\n",
       " '/mnt/stepanauskas_nfs/projects/sag_mag/coverm/manual_recruit2/merge_mags_vs_ERR598943_recruit_count_by_pid_range_ml-0_ol-0.csv',\n",
       " '/mnt/stepanauskas_nfs/projects/sag_mag/coverm/manual_recruit2/merge_mags_vs_ERR598997_recruit_count_by_pid_range_ml-0_ol-0.csv',\n",
       " '/mnt/stepanauskas_nfs/projects/sag_mag/coverm/manual_recruit2/merge_mags_vs_ERR599058_recruit_count_by_pid_range_ml-0_ol-0.csv',\n",
       " '/mnt/stepanauskas_nfs/projects/sag_mag/coverm/manual_recruit2/merge_mags_vs_ERR599029_recruit_count_by_pid_range_ml-0_ol-0.csv',\n",
       " '/mnt/stepanauskas_nfs/projects/sag_mag/coverm/manual_recruit2/merge_mags_vs_ERR599150_recruit_count_by_pid_range_ml-0_ol-0.csv',\n",
       " '/mnt/stepanauskas_nfs/projects/sag_mag/coverm/manual_recruit2/merge_mags_vs_ERR599136_recruit_count_by_pid_range_ml-0_ol-0.csv',\n",
       " '/mnt/stepanauskas_nfs/projects/sag_mag/coverm/manual_recruit2/merge_mags_vs_ERR599170_recruit_count_by_pid_range_ml-0_ol-0.csv',\n",
       " '/mnt/stepanauskas_nfs/projects/sag_mag/coverm/manual_recruit2/merge_sags_vs_ERR598943_recruit_count_by_pid_range_ml-0_ol-0.csv',\n",
       " '/mnt/stepanauskas_nfs/projects/sag_mag/coverm/manual_recruit2/merge_sags_vs_ERR598994_recruit_count_by_pid_range_ml-0_ol-0.csv',\n",
       " '/mnt/stepanauskas_nfs/projects/sag_mag/coverm/manual_recruit2/merge_sags_vs_ERR598983_recruit_count_by_pid_range_ml-0_ol-0.csv',\n",
       " '/mnt/stepanauskas_nfs/projects/sag_mag/coverm/manual_recruit2/merge_sags_vs_ERR598976_recruit_count_by_pid_range_ml-0_ol-0.csv',\n",
       " '/mnt/stepanauskas_nfs/projects/sag_mag/coverm/manual_recruit2/merge_sags_vs_ERR598955_recruit_count_by_pid_range_ml-0_ol-0.csv',\n",
       " '/mnt/stepanauskas_nfs/projects/sag_mag/coverm/manual_recruit2/merge_sags_vs_ERR599010_recruit_count_by_pid_range_ml-0_ol-0.csv',\n",
       " '/mnt/stepanauskas_nfs/projects/sag_mag/coverm/manual_recruit2/merge_sags_vs_ERR598992_recruit_count_by_pid_range_ml-0_ol-0.csv',\n",
       " '/mnt/stepanauskas_nfs/projects/sag_mag/coverm/manual_recruit2/merge_sags_vs_ERR598984_recruit_count_by_pid_range_ml-0_ol-0.csv',\n",
       " '/mnt/stepanauskas_nfs/projects/sag_mag/coverm/manual_recruit2/merge_sags_vs_ERR599052_recruit_count_by_pid_range_ml-0_ol-0.csv',\n",
       " '/mnt/stepanauskas_nfs/projects/sag_mag/coverm/manual_recruit2/merge_sags_vs_ERR598997_recruit_count_by_pid_range_ml-0_ol-0.csv',\n",
       " '/mnt/stepanauskas_nfs/projects/sag_mag/coverm/manual_recruit2/merge_sags_vs_ERR599129_recruit_count_by_pid_range_ml-0_ol-0.csv',\n",
       " '/mnt/stepanauskas_nfs/projects/sag_mag/coverm/manual_recruit2/merge_sags_vs_ERR598989_recruit_count_by_pid_range_ml-0_ol-0.csv',\n",
       " '/mnt/stepanauskas_nfs/projects/sag_mag/coverm/manual_recruit2/merge_sags_vs_ERR599029_recruit_count_by_pid_range_ml-0_ol-0.csv',\n",
       " '/mnt/stepanauskas_nfs/projects/sag_mag/coverm/manual_recruit2/merge_sags_vs_ERR599119_recruit_count_by_pid_range_ml-0_ol-0.csv',\n",
       " '/mnt/stepanauskas_nfs/projects/sag_mag/coverm/manual_recruit2/merge_sags_vs_ERR599063_recruit_count_by_pid_range_ml-0_ol-0.csv',\n",
       " '/mnt/stepanauskas_nfs/projects/sag_mag/coverm/manual_recruit2/merge_sags_vs_ERR599006_recruit_count_by_pid_range_ml-0_ol-0.csv',\n",
       " '/mnt/stepanauskas_nfs/projects/sag_mag/coverm/manual_recruit2/merge_sags_vs_ERR599058_recruit_count_by_pid_range_ml-0_ol-0.csv',\n",
       " '/mnt/stepanauskas_nfs/projects/sag_mag/coverm/manual_recruit2/merge_sags_vs_ERR599057_recruit_count_by_pid_range_ml-0_ol-0.csv',\n",
       " '/mnt/stepanauskas_nfs/projects/sag_mag/coverm/manual_recruit2/merge_sags_vs_ERR599160_recruit_count_by_pid_range_ml-0_ol-0.csv',\n",
       " '/mnt/stepanauskas_nfs/projects/sag_mag/coverm/manual_recruit2/merge_mags_vs_ERR599173_recruit_count_by_pid_range_ml-0_ol-0.csv',\n",
       " '/mnt/stepanauskas_nfs/projects/sag_mag/coverm/manual_recruit2/merge_sags_vs_ERR599136_recruit_count_by_pid_range_ml-0_ol-0.csv',\n",
       " '/mnt/stepanauskas_nfs/projects/sag_mag/coverm/manual_recruit2/merge_sags_vs_ERR599142_recruit_count_by_pid_range_ml-0_ol-0.csv',\n",
       " '/mnt/stepanauskas_nfs/projects/sag_mag/coverm/manual_recruit2/merge_sags_vs_ERR599150_recruit_count_by_pid_range_ml-0_ol-0.csv',\n",
       " '/mnt/stepanauskas_nfs/projects/sag_mag/coverm/manual_recruit2/merge_sags_vs_ERR599170_recruit_count_by_pid_range_ml-0_ol-0.csv']"
      ]
     },
     "execution_count": 34,
     "metadata": {},
     "output_type": "execute_result"
    }
   ],
   "source": [
    "csvs"
   ]
  },
  {
   "cell_type": "code",
   "execution_count": 35,
   "id": "f32a0e1e-6161-4ec2-a43b-2a6ab645e8fe",
   "metadata": {},
   "outputs": [],
   "source": [
    "csv = csvs[0]\n",
    "df = pd.read_csv(csv)\n",
    "df['library'] = op.basename(csv).split(\"_vs_\")[1].split(\"_\")[0]\n",
    "df['type'] = op.basename(csv).split(\"_vs_\")[0].split(\"_\")[1]\n"
   ]
  },
  {
   "cell_type": "code",
   "execution_count": 57,
   "id": "d696fb8f-3cb1-40cb-8268-a61972b44765",
   "metadata": {},
   "outputs": [],
   "source": []
  },
  {
   "cell_type": "code",
   "execution_count": 74,
   "id": "8c6c1540-bdcb-48dd-b639-449deebd512c",
   "metadata": {},
   "outputs": [],
   "source": [
    "csv = csvs[0]\n",
    "\n",
    "dfs = []\n",
    "\n",
    "for csv in csvs:\n",
    "    df = pd.read_csv(csv)\n",
    "    df['library'] = op.basename(csv).split(\"_vs_\")[1].split(\"_\")[0]\n",
    "    df['type'] = op.basename(csv).split(\"_vs_\")[0].split(\"_\")[1]\n",
    "    dfs.append(df)\n",
    "    \n",
    "bdf = pd.concat(dfs)\n",
    "\n",
    "bdf.loc[bdf['type'] == 'sags','type'] = 'SAG'\n",
    "bdf.loc[bdf['type'] == 'mags','type'] = 'MAG'"
   ]
  },
  {
   "cell_type": "code",
   "execution_count": 75,
   "id": "3345d35f-14c4-459b-a010-682859545709",
   "metadata": {},
   "outputs": [],
   "source": [
    "div_dict = {'paired': 1000000,\n",
    "            'unpaired': 2000000}\n"
   ]
  },
  {
   "cell_type": "code",
   "execution_count": 76,
   "id": "69f41f29-1304-4bfe-b64b-cdbbbfaa45b1",
   "metadata": {},
   "outputs": [],
   "source": [
    "pct_reads = []\n",
    "\n",
    "for i, l in bdf.iterrows():\n",
    "    pct_reads.append(l['recruited_read_count'] / div_dict[l['paired_unpaired']])\n",
    "\n",
    "    \n",
    "bdf['pct_reads_recruited'] = pct_reads"
   ]
  },
  {
   "cell_type": "code",
   "execution_count": 77,
   "id": "23caed51-a990-40f8-920e-8cf81a7904b1",
   "metadata": {},
   "outputs": [],
   "source": [
    "import seaborn as sns\n",
    "import matplotlib.pyplot as plt"
   ]
  },
  {
   "cell_type": "code",
   "execution_count": 81,
   "id": "9b2596cf-f860-4c94-8ba8-23c66d7c074f",
   "metadata": {},
   "outputs": [
    {
     "data": {
      "image/png": "[encoded data removed]",
      "text/plain": [
       "<Figure size 576x432 with 1 Axes>"
      ]
     },
     "metadata": {
      "needs_background": "light"
     },
     "output_type": "display_data"
    }
   ],
   "source": [
    "fig, ax = plt.subplots(figsize = (8, 6))\n",
    "\n",
    "sns.boxplot(x = 'pid', y = 'pct_reads_recruited', data = bdf[bdf['paired_unpaired'] == 'paired'], hue = 'type', ax = ax)\n",
    "ax.invert_xaxis()\n",
    "\n",
    "ax.set_ylabel('Percent Read Pairs Recruited')\n",
    "ax.set_xlabel('Percent Identity Threshold')\n",
    "\n",
    "ax.legend(title = 'Genome Collection')\n",
    "\n",
    "plt.savefig(\"/mnt/stepanauskas_nfs/projects/sag_mag/combined_recruitment_ml0_ol0.png\")"
   ]
  },
  {
   "cell_type": "code",
   "execution_count": 82,
   "id": "fab356f1-986c-4adb-9b71-f38d2d1dc06c",
   "metadata": {},
   "outputs": [],
   "source": [
    "bdf.to_csv(\"/mnt/stepanauskas_nfs/projects/sag_mag/combined_bwa_recruitment_totals_ml0_ol0.csv\", index = False)"
   ]
  },
  {
   "cell_type": "code",
   "execution_count": null,
   "id": "7c8a1aa3-5011-4fd5-80be-9ea934a22ac4",
   "metadata": {},
   "outputs": [],
   "source": []
  },
  {
   "cell_type": "code",
   "execution_count": null,
   "id": "db5a97a6-8e11-4ac1-bb52-4deeec9f41f3",
   "metadata": {},
   "outputs": [],
   "source": []
  }
 ],
 "metadata": {
  "kernelspec": {
   "display_name": "Python 3",
   "language": "python",
   "name": "python3"
  },
  "language_info": {
   "codemirror_mode": {
    "name": "ipython",
    "version": 3
   },
   "file_extension": ".py",
   "mimetype": "text/x-python",
   "name": "python",
   "nbconvert_exporter": "python",
   "pygments_lexer": "ipython3",
   "version": "3.6.7"
  }
 },
 "nbformat": 4,
 "nbformat_minor": 5
}
